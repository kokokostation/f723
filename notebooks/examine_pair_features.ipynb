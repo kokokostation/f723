{
 "cells": [
  {
   "cell_type": "code",
   "execution_count": 1,
   "metadata": {},
   "outputs": [],
   "source": [
    "%load_ext autoreload\n",
    "%autoreload 2"
   ]
  },
  {
   "cell_type": "code",
   "execution_count": 1,
   "metadata": {},
   "outputs": [],
   "source": [
    "import json\n",
    "import os\n",
    "import dill\n",
    "import numpy as np\n",
    "import multiprocessing_on_dill as mp\n",
    "import pandas as pd\n",
    "import matplotlib.pyplot as plt\n",
    "import scipy.stats as sps\n",
    "\n",
    "from collections import defaultdict, Counter\n",
    "from tqdm import tqdm\n",
    "from itertools import chain\n",
    "from cityhash import CityHash64\n",
    "from itertools import groupby\n",
    "\n",
    "from f723.tools.urs.extraction import assemble_chains, get_sec_struct_model\n",
    "from f723.tools.dataset.entities import NucleotideFeatures, PairFeatures, PairMeta, PairData, make_pair, Pair"
   ]
  },
  {
   "cell_type": "markdown",
   "metadata": {},
   "source": [
    "Это функции загрузки датасета в виде всяких namedtuple'ов"
   ]
  },
  {
   "cell_type": "code",
   "execution_count": 2,
   "metadata": {},
   "outputs": [],
   "source": [
    "DATASET_DIR = '/home/mikhail/bioinformatics/data/dataset_all_60'"
   ]
  },
  {
   "cell_type": "code",
   "execution_count": 3,
   "metadata": {},
   "outputs": [],
   "source": [
    "def get_batch(index):\n",
    "    with open(os.path.join(DATASET_DIR, 'batch_{}'.format(index)), 'rb') as infile:\n",
    "        return dill.load(infile)\n",
    "    \n",
    "\n",
    "def get_data():\n",
    "    return chain.from_iterable((get_batch(i) for i in tqdm(range(30))))"
   ]
  },
  {
   "cell_type": "code",
   "execution_count": 4,
   "metadata": {},
   "outputs": [
    {
     "data": {
      "text/plain": [
       "PairData(features=PairFeatures(neighbours_left=[None, None, None, None, None, None, NucleotideFeatures(secondary_structure='HI', base='g', fragment_length=3, fragment_index=0), NucleotideFeatures(secondary_structure='HI', base='g', fragment_length=3, fragment_index=1), NucleotideFeatures(secondary_structure='HI', base='c', fragment_length=3, fragment_index=2), NucleotideFeatures(secondary_structure='S', base='c', fragment_length=9, fragment_index=0), NucleotideFeatures(secondary_structure='S', base='g', fragment_length=9, fragment_index=1)], neighbours_right=[None, None, None, None, None, NucleotideFeatures(secondary_structure='HI', base='g', fragment_length=3, fragment_index=0), NucleotideFeatures(secondary_structure='HI', base='g', fragment_length=3, fragment_index=1), NucleotideFeatures(secondary_structure='HI', base='c', fragment_length=3, fragment_index=2), NucleotideFeatures(secondary_structure='S', base='c', fragment_length=9, fragment_index=0), NucleotideFeatures(secondary_structure='S', base='g', fragment_length=9, fragment_index=1), NucleotideFeatures(secondary_structure='S', base='c', fragment_length=9, fragment_index=2)], relation='SM'), meta=PairMeta(pdb_id='4x4n', pair=Pair(nt_left=Nucleotide(id='D.G.1.', base='G', chain_id='D', index=0), nt_right=Nucleotide(id='D.G.2.', base='G', chain_id='D', index=1)), type='random'))"
      ]
     },
     "execution_count": 4,
     "metadata": {},
     "output_type": "execute_result"
    }
   ],
   "source": [
    "pair_sample = get_batch(0)[0]\n",
    "pair_sample"
   ]
  },
  {
   "cell_type": "markdown",
   "metadata": {},
   "source": [
    "Преобразуем фичи из вида, который проиллюстрирован ячейкой выше в вид, который расписан в URS-заметке. Ниже код, который по факту переводит категориальные фичи в onehot encoding чтобы скормить это все в RandomForest.  \n",
    "\n",
    "Важная фишечка: для каждого нуклеотида из пары имеем длинный вектор из фичей для 11 нуклеотдиов. Назовем нуклеотид в паре с меньшим порядковым номером в цепи левым, а с большим -- правым. Мой код при конструкции пары `Pair(nt_left, nt_right)` обеспечивает, чтобы в `nt_left` хранился всегда левый нуклеотид, а в `nt_right` -- правый. В общем векторе признаков фичи для левого нуклеотида и для правого будут стоять на строго определенных позициях. На эти позиции RandomForest поставит свои жесткие условия, но на самом деле с физической точки зрения, как я понимаю, нет абсолютно никакой разницы, какой нуклеотид является левым, а какой правым. Так что при бесконечных данных RandomForest по-хорошему должен выучить фичи для левого и правого нуклеотидов симметрично. Так как у нас данных сравнительно мало, и может случиться перекос давайте при генерации фичей для каждой пары генерировать 2 зеркальных варианта её вектора признаков, тогда получится, что датасет будет хотя бы симметричен.  \n",
    "\n",
    "Ещё один момент: не выкидываем нуклеотиды на концах цепочек, но запоняем фичи их несуществующих соседей нулями. Так же для каждого нуклеотида добавим фичу: 1, если данный сосед есть, и 0, если его нет -- это поможет при необходимости дереву определить, есть ли сосед, за одну проверку условия."
   ]
  },
  {
   "cell_type": "code",
   "execution_count": 5,
   "metadata": {},
   "outputs": [],
   "source": [
    "class FeaturesExtractor:\n",
    "    def extract(self, item):\n",
    "        raise NotImplementedError\n",
    "    \n",
    "    def description(self, item):\n",
    "        raise NotImplementedError\n",
    "\n",
    "\n",
    "class NucleotideFeaturesExtractor(FeaturesExtractor):\n",
    "    SECONDARY_STRUCTURES = ['BC', 'BI', 'BP', 'HC', 'HI', 'HP', 'IC', 'II', 'IP', 'JC', 'JI', 'JP', 'S']\n",
    "    BASES = ['a', 'u', 'g', 'c']\n",
    "    NUCLEOTIDE_FEATURES_LEN = len(SECONDARY_STRUCTURES) + len(BASES) + 1 + 2\n",
    "    \n",
    "    def extract(self, nf):\n",
    "        if nf is None:\n",
    "            features = [0] * (self.NUCLEOTIDE_FEATURES_LEN + 1)\n",
    "        else:\n",
    "            features = [1]\n",
    "\n",
    "            nucleotide_secondary_structures = nf.secondary_structure.split(';')\n",
    "            for secondary_structure in self.SECONDARY_STRUCTURES:\n",
    "                features.append(int(secondary_structure in nucleotide_secondary_structures))\n",
    "\n",
    "            for base in self.BASES:\n",
    "                features.append(int(nf.base == base))\n",
    "\n",
    "            features.append(int(nf.base in self.BASES))\n",
    "\n",
    "            features.extend([nf.fragment_length, nf.fragment_index])\n",
    "\n",
    "        return features\n",
    "    \n",
    "    def description(self, nf):\n",
    "        meta_features = [('nucleotide', 'is_dummy')]\n",
    "        secondary_structure_features = [('secondary_structure', typ) for typ in self.SECONDARY_STRUCTURES]\n",
    "        base_features = [('base', base) for base in self.BASES] + [('base', 'rare')]\n",
    "        fragment_features = [('fragment', 'length'), ('fragment', 'index')]\n",
    "\n",
    "        return meta_features + secondary_structure_features + base_features + fragment_features\n",
    "\n",
    "\n",
    "class RelationFeaturesExtractor(FeaturesExtractor):\n",
    "    RELATIONS = ['LC', 'LR', 'SM']\n",
    "    \n",
    "    def extract(self, pair):\n",
    "        return [int(pair.features.relation == relation) for relation in self.RELATIONS]\n",
    "    \n",
    "    def description(self, pair):\n",
    "        return [('relation', relation) for relation in self.RELATIONS]\n",
    "    \n",
    "\n",
    "class PairFeaturesExtractor(FeaturesExtractor):\n",
    "    def __init__(self):\n",
    "        self._nucleotide_features_extractor = NucleotideFeaturesExtractor()\n",
    "        self._relation_features_extractor = RelationFeaturesExtractor()\n",
    "    \n",
    "    def extract(self, pair):\n",
    "        result_features = []\n",
    "        neighbour_sets = [pair.features.neighbours_left, pair.features.neighbours_right]\n",
    "\n",
    "        for neighbour_set_permutation in [neighbour_sets, reversed(neighbour_sets)]:\n",
    "            features = []\n",
    "            \n",
    "            for nf in chain.from_iterable(neighbour_set_permutation):\n",
    "                features.extend(self._nucleotide_features_extractor.extract(nf))\n",
    "            features.extend(self._relation_features_extractor.extract(pair))\n",
    "            \n",
    "            result_features.append(features)\n",
    "        \n",
    "        return result_features\n",
    "    \n",
    "    def description(self, pair):\n",
    "        features_description = []\n",
    "        \n",
    "        for lr, nfs in [('left', pair.features.neighbours_left), \n",
    "                        ('right', pair.features.neighbours_right)]:\n",
    "            for index, nf in enumerate(nfs):\n",
    "                for feature_description in self._nucleotide_features_extractor.description(pair):\n",
    "                    features_description.append((lr, index - (len(nfs) - 1) // 2, feature_description))\n",
    "        \n",
    "        features_description.extend(self._relation_features_extractor.description(pair))\n",
    "        \n",
    "        return features_description"
   ]
  },
  {
   "cell_type": "code",
   "execution_count": 6,
   "metadata": {},
   "outputs": [],
   "source": [
    "FEATURES_PATH = os.path.join(DATASET_DIR, 'features.npy')\n",
    "TARGET_PATH = os.path.join(DATASET_DIR, 'target.npy')\n",
    "GROUPS_PATH = os.path.join(DATASET_DIR, 'groups.npy')\n",
    "\n",
    "PAIR_TYPES = ['ss_bps', 'noncanonical_bps', 'random']"
   ]
  },
  {
   "cell_type": "code",
   "execution_count": 7,
   "metadata": {},
   "outputs": [
    {
     "name": "stderr",
     "output_type": "stream",
     "text": [
      "100%|██████████| 30/30 [01:33<00:00,  2.30s/it]\n"
     ]
    }
   ],
   "source": [
    "FEATURES_SHAPE = (2 * sum(1 for _ in get_data()), \n",
    "                  len(PairFeaturesExtractor().description(pair_sample)))"
   ]
  },
  {
   "cell_type": "code",
   "execution_count": 8,
   "metadata": {},
   "outputs": [],
   "source": [
    "def prepare_features():\n",
    "    pair_features_extractor = PairFeaturesExtractor()\n",
    "    pair_sample = get_batch(0)[0]\n",
    "    features = np.memmap(FEATURES_PATH, shape=FEATURES_SHAPE, mode='w+')\n",
    "    \n",
    "    index = 0\n",
    "    for pair_data in get_data():\n",
    "        for pair_features in pair_features_extractor.extract(pair_data):\n",
    "            features[index] = pair_features\n",
    "            \n",
    "            index += 1\n",
    "            \n",
    "    target = np.repeat([PAIR_TYPES.index(pair_data.meta.type) for pair_data in get_data()], 2)\n",
    "    pdb_ids = np.repeat([pair_data.meta.pdb_id for pair_data in get_data()], 2)\n",
    "    \n",
    "    np.save(TARGET_PATH, target)\n",
    "    np.save(GROUPS_PATH, pdb_ids)"
   ]
  },
  {
   "cell_type": "code",
   "execution_count": 9,
   "metadata": {
    "scrolled": true
   },
   "outputs": [
    {
     "name": "stderr",
     "output_type": "stream",
     "text": [
      "100%|██████████| 30/30 [14:13<00:00, 22.73s/it]\n",
      "100%|██████████| 30/30 [02:13<00:00,  5.56s/it]\n",
      "100%|██████████| 30/30 [03:15<00:00,  4.92s/it]\n"
     ]
    }
   ],
   "source": [
    "prepare_features()"
   ]
  },
  {
   "cell_type": "code",
   "execution_count": 8,
   "metadata": {},
   "outputs": [],
   "source": [
    "def load_features():\n",
    "    features = np.memmap(FEATURES_PATH, shape=FEATURES_SHAPE)\n",
    "    target = np.load(TARGET_PATH)\n",
    "    pdb_ids = np.load(GROUPS_PATH)\n",
    "    \n",
    "    return features, target, pdb_ids"
   ]
  },
  {
   "cell_type": "code",
   "execution_count": 9,
   "metadata": {},
   "outputs": [],
   "source": [
    "features, target, pdb_ids = load_features()"
   ]
  },
  {
   "cell_type": "markdown",
   "metadata": {},
   "source": [
    "Уберем из датасета пары вторичной структуры. Они есть в датасете, потому что я их тоже собирал, может пригодятся позже."
   ]
  },
  {
   "cell_type": "code",
   "execution_count": 10,
   "metadata": {},
   "outputs": [],
   "source": [
    "mask = target != 0  # throw away secondary structure pairs\n",
    "\n",
    "features = features[mask]\n",
    "target = target[mask]\n",
    "pdb_ids = pdb_ids[mask]"
   ]
  },
  {
   "cell_type": "code",
   "execution_count": 11,
   "metadata": {},
   "outputs": [
    {
     "data": {
      "text/plain": [
       "6807514"
      ]
     },
     "execution_count": 11,
     "metadata": {},
     "output_type": "execute_result"
    }
   ],
   "source": [
    "len(target) "
   ]
  },
  {
   "cell_type": "markdown",
   "metadata": {},
   "source": [
    "Посмотрим на распределение неканонических пар в зависимости от индекса пары в датасете"
   ]
  },
  {
   "cell_type": "code",
   "execution_count": 12,
   "metadata": {},
   "outputs": [],
   "source": [
    "ys = np.cumsum(target == 1)\n",
    "xs = np.arange(ys.shape[0])"
   ]
  },
  {
   "cell_type": "code",
   "execution_count": 13,
   "metadata": {},
   "outputs": [
    {
     "data": {
      "text/plain": [
       "[<matplotlib.lines.Line2D at 0x7f2b6335d470>]"
      ]
     },
     "execution_count": 13,
     "metadata": {},
     "output_type": "execute_result"
    },
    {
     "data": {
      "image/png": "[encoded data removed]",
      "text/plain": [
       "<Figure size 1440x720 with 1 Axes>"
      ]
     },
     "metadata": {
      "needs_background": "light"
     },
     "output_type": "display_data"
    }
   ],
   "source": [
    "plt.figure(figsize=(20, 10))\n",
    "\n",
    "plt.plot(xs, ys)"
   ]
  },
  {
   "cell_type": "markdown",
   "metadata": {},
   "source": [
    "Неканонические пары распределены равномерно, можно спокойно гонять кросс валидацию по группам pdb_id не парясь, что будет сильный дисбаланс между количеством неканонических пар в трейне и в тесте."
   ]
  },
  {
   "cell_type": "code",
   "execution_count": 24,
   "metadata": {},
   "outputs": [],
   "source": [
    "from sklearn.model_selection import GroupKFold, StratifiedKFold\n",
    "from sklearn.ensemble import RandomForestClassifier\n",
    "from sklearn.metrics import precision_recall_fscore_support\n",
    "from sklearn.linear_model import LogisticRegression"
   ]
  },
  {
   "cell_type": "code",
   "execution_count": 16,
   "metadata": {},
   "outputs": [
    {
     "name": "stdout",
     "output_type": "stream",
     "text": [
      "Train positive rate: 0.0026536722659665614, test positive rate: 0.002601588276253125\n",
      "(array([0.89105339, 0.99830379]), array([0.34867307, 0.9998888 ]), array([0.50121753, 0.99909567]), array([   3542, 1357934]))\n",
      "Train positive rate: 0.0026375495688183027, test positive rate: 0.0026660791010245676\n",
      "(array([0.89626325, 0.99851223]), array([0.44269972, 0.99986303]), array([0.59266089, 0.99918717]), array([   3630, 1357920]))\n",
      "Train positive rate: 0.0025787771998196105, test positive rate: 0.002901165019735267\n",
      "(array([0.9013683 , 0.99825779]), array([0.40025316, 0.99987257]), array([0.55434783, 0.99906453]), array([   3950, 1357572]))\n",
      "Train positive rate: 0.00264228687266344, test positive rate: 0.0026471309771615176\n",
      "(array([0.90201135, 0.99863556]), array([0.48529412, 0.99986007]), array([0.63106621, 0.99924744]), array([   3604, 1357870]))\n",
      "Train positive rate: 0.002703992014721938, test positive rate: 0.002400307897512435\n",
      "(array([0.90405405, 0.99858089]), array([0.40942472, 0.99989545]), array([0.56360573, 0.99923774]), array([   3268, 1358224]))\n"
     ]
    }
   ],
   "source": [
    "group_kfold = GroupKFold(n_splits=5)\n",
    "group_kfold.get_n_splits(features, target, pdb_ids)\n",
    "\n",
    "feature_importances = []\n",
    "target_pred = np.zeros_like(target)\n",
    "\n",
    "for train_index, test_index in group_kfold.split(features, target, pdb_ids):\n",
    "    X_train, X_test = features[train_index], features[test_index]\n",
    "    y_train, y_test = target[train_index], target[test_index]\n",
    "    print('Train positive rate: {}, test positive rate: {}'.format(\n",
    "        np.mean(y_train == 1), np.mean(y_test == 1)))\n",
    "    \n",
    "    model = RandomForestClassifier(class_weight='balanced', n_estimators=100, n_jobs=8)\n",
    "    model.fit(X_train, y_train)\n",
    "    \n",
    "    y_pred = model.predict(X_test)\n",
    "    \n",
    "    feature_importances.append(model.feature_importances_)\n",
    "    target_pred[test_index] = y_pred\n",
    "    \n",
    "    print(precision_recall_fscore_support(y_test, y_pred))"
   ]
  },
  {
   "cell_type": "code",
   "execution_count": 15,
   "metadata": {},
   "outputs": [],
   "source": [
    "TARGET_PRED_PATH = os.path.join(DATASET_DIR, 'target_pred_5_splits_random_forest_n_extimators_100.npy')"
   ]
  },
  {
   "cell_type": "code",
   "execution_count": null,
   "metadata": {},
   "outputs": [],
   "source": [
    "np.save(TARGET_PRED_PATH, target_pred)"
   ]
  },
  {
   "cell_type": "code",
   "execution_count": 16,
   "metadata": {},
   "outputs": [],
   "source": [
    "target_pred = np.load(TARGET_PRED_PATH)"
   ]
  },
  {
   "cell_type": "markdown",
   "metadata": {},
   "source": [
    "precision ~90% при recall ~40%. Посмотрим на feature_importances"
   ]
  },
  {
   "cell_type": "code",
   "execution_count": 17,
   "metadata": {},
   "outputs": [],
   "source": [
    "feature_importances = np.array(feature_importances)\n",
    "mean_feature_importances = feature_importances.mean(axis=0)"
   ]
  },
  {
   "cell_type": "code",
   "execution_count": 18,
   "metadata": {},
   "outputs": [
    {
     "data": {
      "image/png": "[encoded data removed]",
      "text/plain": [
       "<Figure size 1440x720 with 1 Axes>"
      ]
     },
     "metadata": {
      "needs_background": "light"
     },
     "output_type": "display_data"
    }
   ],
   "source": [
    "plt.figure(figsize=(20, 10))\n",
    "\n",
    "plt.hist(mean_feature_importances, bins=1000);"
   ]
  },
  {
   "cell_type": "code",
   "execution_count": 19,
   "metadata": {},
   "outputs": [],
   "source": [
    "description = PairFeaturesExtractor().description(pair_sample)"
   ]
  },
  {
   "cell_type": "code",
   "execution_count": 20,
   "metadata": {},
   "outputs": [
    {
     "data": {
      "text/plain": [
       "[(('left', -5, ('fragment', 'index')), 0.00521520240391444),\n",
       " (('left', 1, ('secondary_structure', 'JC')), 0.005518115755633058),\n",
       " (('right', 0, ('fragment', 'index')), 0.005560985617395299),\n",
       " (('left', 0, ('fragment', 'index')), 0.005715060132451251),\n",
       " (('left', -4, ('fragment', 'length')), 0.005954960870491488),\n",
       " (('right', 1, ('secondary_structure', 'JC')), 0.005970973611126348),\n",
       " (('right', -4, ('fragment', 'length')), 0.006017691752155202),\n",
       " (('left', -5, ('fragment', 'length')), 0.006031446793797587),\n",
       " (('right', -3, ('fragment', 'length')), 0.0062132459702177924),\n",
       " (('left', -3, ('fragment', 'length')), 0.006229337403402349),\n",
       " (('left', 5, ('fragment', 'index')), 0.006288396988802518),\n",
       " (('right', -5, ('fragment', 'length')), 0.006379080810146209),\n",
       " (('right', 5, ('fragment', 'index')), 0.006424460829475913),\n",
       " (('left', -2, ('fragment', 'length')), 0.006706684362614177),\n",
       " (('right', -2, ('fragment', 'length')), 0.006714133197457427),\n",
       " (('right', 5, ('fragment', 'length')), 0.007137324851134555),\n",
       " (('left', 4, ('fragment', 'length')), 0.0071491845447365756),\n",
       " (('right', -1, ('fragment', 'length')), 0.007283746506256418),\n",
       " (('right', 4, ('fragment', 'length')), 0.007347835799315921),\n",
       " (('left', 5, ('fragment', 'length')), 0.007420934560436054),\n",
       " (('left', -1, ('fragment', 'length')), 0.007472295007414321),\n",
       " (('right', 4, ('fragment', 'index')), 0.00748551056656103),\n",
       " (('left', 1, ('secondary_structure', 'HC')), 0.007526206265346269),\n",
       " (('left', 4, ('fragment', 'index')), 0.007543439847307401),\n",
       " (('right', 3, ('fragment', 'length')), 0.007719847469940004),\n",
       " (('right', 1, ('secondary_structure', 'IC')), 0.007925553323396485),\n",
       " (('left', 3, ('fragment', 'length')), 0.008092948422553127),\n",
       " (('left', 0, ('fragment', 'length')), 0.008296998126064926),\n",
       " (('left', 2, ('fragment', 'length')), 0.008334971177493097),\n",
       " (('right', 0, ('fragment', 'length')), 0.008364790978183701),\n",
       " (('left', 0, ('secondary_structure', 'S')), 0.008380392317568548),\n",
       " (('right', 0, ('secondary_structure', 'S')), 0.008440361275793541),\n",
       " (('right', 1, ('secondary_structure', 'HC')), 0.008464581190567614),\n",
       " (('right', 3, ('fragment', 'index')), 0.008468015017228875),\n",
       " (('left', 1, ('secondary_structure', 'IC')), 0.008515390477778845),\n",
       " (('right', 2, ('fragment', 'length')), 0.008550218211027163),\n",
       " (('right', 2, ('secondary_structure', 'S')), 0.00868721514009012),\n",
       " (('left', 2, ('secondary_structure', 'S')), 0.009043330013348767),\n",
       " (('left', 3, ('fragment', 'index')), 0.00923416857940825),\n",
       " (('left', 1, ('fragment', 'length')), 0.010009812753407722),\n",
       " (('left', 1, ('fragment', 'index')), 0.01013470427538991),\n",
       " (('right', 1, ('fragment', 'length')), 0.010388264121154995),\n",
       " (('right', 1, ('fragment', 'index')), 0.010472609269443567),\n",
       " (('right', 2, ('fragment', 'index')), 0.0104824072842404),\n",
       " (('left', 2, ('fragment', 'index')), 0.010854184204071488),\n",
       " (('relation', 'LC'), 0.016657408792690582),\n",
       " (('left', 1, ('secondary_structure', 'S')), 0.038740722629474325),\n",
       " (('right', 1, ('secondary_structure', 'S')), 0.04162590506678272),\n",
       " (('relation', 'SM'), 0.09340518263298554),\n",
       " (('relation', 'LR'), 0.10474044518890777)]"
      ]
     },
     "execution_count": 20,
     "metadata": {},
     "output_type": "execute_result"
    }
   ],
   "source": [
    "[(description[i], mean_feature_importances[i]) for i in np.argsort(mean_feature_importances)[-50:]]"
   ]
  },
  {
   "cell_type": "markdown",
   "metadata": {},
   "source": [
    "Видим, что фичи, помогающие понять степень близости нуклеотидов в цепочке -- самые важные, между ними вклиниваются фичи для мотивов вторичной структуры, которым нуклеотиды принадлежат. Рассмотрим фичи мотивов вторичной структуры подробнее, так как их много."
   ]
  },
  {
   "cell_type": "code",
   "execution_count": 21,
   "metadata": {},
   "outputs": [
    {
     "data": {
      "text/plain": [
       "[(('left', 1, ('secondary_structure', 'JC')), 0.005518115755633058),\n",
       " (('right', 1, ('secondary_structure', 'JC')), 0.005970973611126348),\n",
       " (('left', 1, ('secondary_structure', 'HC')), 0.007526206265346269),\n",
       " (('right', 1, ('secondary_structure', 'IC')), 0.007925553323396485),\n",
       " (('left', 0, ('secondary_structure', 'S')), 0.008380392317568548),\n",
       " (('right', 0, ('secondary_structure', 'S')), 0.008440361275793541),\n",
       " (('right', 1, ('secondary_structure', 'HC')), 0.008464581190567614),\n",
       " (('left', 1, ('secondary_structure', 'IC')), 0.008515390477778845),\n",
       " (('right', 2, ('secondary_structure', 'S')), 0.00868721514009012),\n",
       " (('left', 2, ('secondary_structure', 'S')), 0.009043330013348767),\n",
       " (('left', 1, ('secondary_structure', 'S')), 0.038740722629474325),\n",
       " (('right', 1, ('secondary_structure', 'S')), 0.04162590506678272)]"
      ]
     },
     "execution_count": 21,
     "metadata": {},
     "output_type": "execute_result"
    }
   ],
   "source": [
    "[(description[i], mean_feature_importances[i]) \n",
    " for i in np.argsort(mean_feature_importances)[-50:] \n",
    " if len(description[i]) == 3 and description[i][2][0] == 'secondary_structure']"
   ]
  },
  {
   "cell_type": "markdown",
   "metadata": {},
   "source": [
    "В ячейке выше -- самые важные фичи мотивов вторичной структуры. Рассмотрим категориальные понуклеотидные фичи -- то есть все понуклеотидные фичи, кроме длины фрагмента и индекса во фрагменте. Рассмотрим их для каждого из нуклеотидов в паре, а так же для 2-х их соседей вперед (так как эти фичи отмечены RandomForest самыми важными). Кажется, что так как подобная конфигурация оснований вблизи нуклеотидов в паре имеет совсем немного допустимых значений, то эти фичи в принципе не должны помогать хорошо отличить неканонические спаривания от случайных не связанных пар. Для того чтобы это проверить, посчитаем количество неканонических спариваний, для которых есть несвязанная пара нуклеотидов с такой же конфигурацией окрестности."
   ]
  },
  {
   "cell_type": "code",
   "execution_count": 22,
   "metadata": {},
   "outputs": [],
   "source": [
    "def make_mask(indices):\n",
    "    mask = np.zeros(len(features[0]), dtype=np.bool)\n",
    "\n",
    "    for index in indices:\n",
    "        begin = index * (NucleotideFeaturesExtractor.NUCLEOTIDE_FEATURES_LEN + 1)\n",
    "        for i in range(begin, begin + NucleotideFeaturesExtractor.NUCLEOTIDE_FEATURES_LEN - 1):\n",
    "            mask[i] = True\n",
    "    \n",
    "    return mask"
   ]
  },
  {
   "cell_type": "code",
   "execution_count": 23,
   "metadata": {},
   "outputs": [],
   "source": [
    "left_mask = make_mask([5, 6, 7])\n",
    "right_mask = make_mask([16, 17, 18])\n",
    "\n",
    "\n",
    "def make_hash(x):\n",
    "    return tuple(sorted([CityHash64(x[left_mask]), CityHash64(x[right_mask])]))"
   ]
  },
  {
   "cell_type": "code",
   "execution_count": 24,
   "metadata": {
    "scrolled": true
   },
   "outputs": [
    {
     "name": "stderr",
     "output_type": "stream",
     "text": [
      "6807514it [00:35, 191502.22it/s]\n"
     ]
    }
   ],
   "source": [
    "feature_repeat = defaultdict(list)\n",
    "\n",
    "for i, (x, y) in tqdm(enumerate(zip(features, target))):\n",
    "    feature_repeat[make_hash(x)].append((i, y))"
   ]
  },
  {
   "cell_type": "code",
   "execution_count": 29,
   "metadata": {
    "scrolled": false
   },
   "outputs": [
    {
     "data": {
      "text/plain": [
       "14086"
      ]
     },
     "execution_count": 29,
     "metadata": {},
     "output_type": "execute_result"
    }
   ],
   "source": [
    "count = 0\n",
    "\n",
    "for key, value in feature_repeat.items():\n",
    "    if len({b for a, b in value}) > 1:\n",
    "        count += sum(1 for a, b in value if b == 1)\n",
    "    \n",
    "count"
   ]
  },
  {
   "cell_type": "code",
   "execution_count": 26,
   "metadata": {},
   "outputs": [
    {
     "data": {
      "text/plain": [
       "17994"
      ]
     },
     "execution_count": 26,
     "metadata": {},
     "output_type": "execute_result"
    }
   ],
   "source": [
    "np.sum(target == 1)"
   ]
  },
  {
   "cell_type": "markdown",
   "metadata": {},
   "source": [
    "Вышло, что неканонических спариваний, для которых есть такая же конфигурация среди случайных пар очень много.  "
   ]
  },
  {
   "cell_type": "markdown",
   "metadata": {},
   "source": [
    "Попробуем теперь посмотреть на те 40% пар, которые RandomForest смог выделить с большой точностью -- true_positive. Попытаемся понять, чем они отличаются от оставшихся 60% -- false_negative"
   ]
  },
  {
   "cell_type": "code",
   "execution_count": 30,
   "metadata": {},
   "outputs": [],
   "source": [
    "true_positive_mask = (target == 1) & (target_pred == 1)\n",
    "false_negative_mask = (target == 1) & (target_pred == 2)"
   ]
  },
  {
   "cell_type": "code",
   "execution_count": 31,
   "metadata": {},
   "outputs": [
    {
     "data": {
      "text/plain": [
       "(7510, 10484)"
      ]
     },
     "execution_count": 31,
     "metadata": {},
     "output_type": "execute_result"
    }
   ],
   "source": [
    "np.sum(true_positive_mask), np.sum(false_negative_mask)"
   ]
  },
  {
   "cell_type": "markdown",
   "metadata": {},
   "source": [
    "Посмотрим, легко ли можно отличить true_positive от false_negative пар."
   ]
  },
  {
   "cell_type": "code",
   "execution_count": 19,
   "metadata": {},
   "outputs": [],
   "source": [
    "new_features = np.array(list(features[true_positive_mask]) + list(features[false_negative_mask]), dtype=np.uint8)\n",
    "new_target = np.zeros(true_positive_mask.sum() + false_negative_mask.sum(), dtype=np.uint8)\n",
    "new_target[:true_positive_mask.sum()] = 1\n",
    "new_target[-false_negative_mask.sum():] = 2"
   ]
  },
  {
   "cell_type": "code",
   "execution_count": 22,
   "metadata": {},
   "outputs": [
    {
     "name": "stdout",
     "output_type": "stream",
     "text": [
      "Train positive rate: 0.41736714136853076, test positive rate: 0.4173381494859683\n",
      "(array([0.84731324, 0.89917993]), array([0.8608522 , 0.88888889]), array([0.85402906, 0.8940048 ]), array([1502, 2097]))\n",
      "Train positive rate: 0.41736714136853076, test positive rate: 0.4173381494859683\n",
      "(array([0.84724005, 0.91082803]), array([0.87882823, 0.88650453]), array([0.8627451 , 0.89850169]), array([1502, 2097]))\n",
      "Train positive rate: 0.41736714136853076, test positive rate: 0.4173381494859683\n",
      "(array([0.84818068, 0.92518703]), array([0.90013316, 0.88459704]), array([0.87338501, 0.90443686]), array([1502, 2097]))\n",
      "Train positive rate: 0.41736714136853076, test positive rate: 0.4173381494859683\n",
      "(array([0.83226633, 0.90083456]), array([0.86551265, 0.87505961]), array([0.84856397, 0.88776004]), array([1502, 2097]))\n",
      "Train positive rate: 0.4173381494859683, test positive rate: 0.41745414118954977\n",
      "(array([0.83653846, 0.9033366 ]), array([0.86884154, 0.87833969]), array([0.85238406, 0.8906628 ]), array([1502, 2096]))\n"
     ]
    }
   ],
   "source": [
    "stratified_kfold = StratifiedKFold(n_splits=5, shuffle=True)\n",
    "stratified_kfold.get_n_splits(new_features, new_target)\n",
    "\n",
    "feature_importances = []\n",
    "\n",
    "for train_index, test_index in stratified_kfold.split(new_features, new_target):\n",
    "    X_train, X_test = new_features[train_index], new_features[test_index]\n",
    "    y_train, y_test = new_target[train_index], new_target[test_index]\n",
    "    print('Train positive rate: {}, test positive rate: {}'.format(\n",
    "        np.mean(y_train == 1), np.mean(y_test == 1)))\n",
    "    \n",
    "    model = RandomForestClassifier(n_estimators=100, n_jobs=8)\n",
    "    model.fit(X_train, y_train)\n",
    "    \n",
    "    y_pred = model.predict(X_test)\n",
    "    \n",
    "    feature_importances.append(model.feature_importances_)\n",
    "    \n",
    "    print(precision_recall_fscore_support(y_test, y_pred))"
   ]
  },
  {
   "cell_type": "markdown",
   "metadata": {},
   "source": [
    "Да, кажется random forest отличает их с неплохой точностью, посмотрим, какие фичи при этом обладают наибольшим весом."
   ]
  },
  {
   "cell_type": "code",
   "execution_count": 113,
   "metadata": {},
   "outputs": [],
   "source": [
    "feature_importances = np.array(feature_importances)\n",
    "mean_feature_importances = feature_importances.mean(axis=0)"
   ]
  },
  {
   "cell_type": "code",
   "execution_count": 114,
   "metadata": {},
   "outputs": [
    {
     "data": {
      "text/plain": [
       "[(('right', 1, ('base', 'g')), 0.0038051084488939456),\n",
       " (('right', -2, ('base', 'g')), 0.0038660642923207173),\n",
       " (('left', 1, ('base', 'a')), 0.00419629869004601),\n",
       " (('right', 1, ('base', 'a')), 0.004383199329389249),\n",
       " (('left', 1, ('secondary_structure', 'HC')), 0.005931556691182516),\n",
       " (('right', 1, ('secondary_structure', 'HC')), 0.006529142388940809),\n",
       " (('right', 4, ('fragment', 'index')), 0.00735630555947475),\n",
       " (('left', 4, ('fragment', 'index')), 0.007399725585607679),\n",
       " (('right', 3, ('fragment', 'index')), 0.007498968194134767),\n",
       " (('left', 3, ('fragment', 'index')), 0.007712231935208594),\n",
       " (('left', 1, ('fragment', 'index')), 0.007796814698539517),\n",
       " (('right', 1, ('fragment', 'index')), 0.007865007704274167),\n",
       " (('left', 5, ('fragment', 'index')), 0.008028359023999362),\n",
       " (('right', 2, ('fragment', 'index')), 0.008061445826290684),\n",
       " (('right', 5, ('fragment', 'index')), 0.00820144121500702),\n",
       " (('right', -1, ('fragment', 'index')), 0.0082143472944043),\n",
       " (('left', 2, ('fragment', 'index')), 0.008225266503097234),\n",
       " (('left', -1, ('fragment', 'index')), 0.008404211151992228),\n",
       " (('right', 0, ('fragment', 'index')), 0.008548371304973209),\n",
       " (('left', 0, ('fragment', 'index')), 0.00855902003428254),\n",
       " (('left', -2, ('fragment', 'index')), 0.008904821839662527),\n",
       " (('right', -3, ('fragment', 'index')), 0.008918936594660249),\n",
       " (('right', -2, ('fragment', 'index')), 0.008979973568399783),\n",
       " (('left', -3, ('fragment', 'index')), 0.009139408222372294),\n",
       " (('right', -4, ('fragment', 'index')), 0.009766843340450228),\n",
       " (('left', -4, ('fragment', 'index')), 0.009887272255564872),\n",
       " (('left', -5, ('fragment', 'index')), 0.01021329696648278),\n",
       " (('right', -5, ('fragment', 'index')), 0.010276680021734355),\n",
       " (('left', -3, ('fragment', 'length')), 0.011625074091828152),\n",
       " (('right', -3, ('fragment', 'length')), 0.011753066591872492),\n",
       " (('left', -1, ('fragment', 'length')), 0.011810065260784116),\n",
       " (('right', -1, ('fragment', 'length')), 0.011854104605845201),\n",
       " (('right', 0, ('fragment', 'length')), 0.011918401383899652),\n",
       " (('left', 3, ('fragment', 'length')), 0.011961071110738446),\n",
       " (('right', 3, ('fragment', 'length')), 0.012092532602407127),\n",
       " (('right', -4, ('fragment', 'length')), 0.012151671196471502),\n",
       " (('right', -2, ('fragment', 'length')), 0.01223798582690926),\n",
       " (('left', 0, ('fragment', 'length')), 0.012251779547271222),\n",
       " (('left', -2, ('fragment', 'length')), 0.01244048421515012),\n",
       " (('left', 2, ('fragment', 'length')), 0.01252946568348881),\n",
       " (('left', 4, ('fragment', 'length')), 0.012544694097791423),\n",
       " (('left', -4, ('fragment', 'length')), 0.012621860540139421),\n",
       " (('right', 2, ('fragment', 'length')), 0.012882689502234354),\n",
       " (('right', 5, ('fragment', 'length')), 0.012917359190375576),\n",
       " (('left', -5, ('fragment', 'length')), 0.012972684840338426),\n",
       " (('right', 4, ('fragment', 'length')), 0.01325870177580583),\n",
       " (('right', -5, ('fragment', 'length')), 0.013313182851952326),\n",
       " (('left', 5, ('fragment', 'length')), 0.013372629964729163),\n",
       " (('right', 1, ('fragment', 'length')), 0.01356104518999116),\n",
       " (('left', 1, ('fragment', 'length')), 0.01381734242194591)]"
      ]
     },
     "execution_count": 114,
     "metadata": {},
     "output_type": "execute_result"
    }
   ],
   "source": [
    "[(description[i], mean_feature_importances[i]) for i in np.argsort(mean_feature_importances)[-50:]]"
   ]
  },
  {
   "cell_type": "markdown",
   "metadata": {},
   "source": [
    "Окей, посмотрели, выводов пока никаких сделать не могу, длина фрагмента так длина фрагмента."
   ]
  },
  {
   "cell_type": "markdown",
   "metadata": {},
   "source": [
    "Теперь соберем в отдельной тетрадке, а в этой тетрадке загрузим типы спариваний по Леонтису. Посмотрим на распределение false_negative и false_positive в разрезе по типам спариваний: вдруг мы не умеем классифицировать пару типов спариваний, а остальные умеем?"
   ]
  },
  {
   "cell_type": "code",
   "execution_count": 19,
   "metadata": {},
   "outputs": [],
   "source": [
    "lw_types = np.repeat(np.load(os.path.join(DATASET_DIR, 'lw.npy')), 2)[mask]"
   ]
  },
  {
   "cell_type": "code",
   "execution_count": 20,
   "metadata": {},
   "outputs": [],
   "source": [
    "true_positive_counter = Counter(lw_types[true_positive_mask])\n",
    "false_negative_counter = Counter(lw_types[false_negative_mask])\n",
    "keys = list(true_positive_counter)"
   ]
  },
  {
   "cell_type": "code",
   "execution_count": 28,
   "metadata": {},
   "outputs": [
    {
     "data": {
      "text/plain": [
       "[<matplotlib.lines.Line2D at 0x7f2b6354ea58>]"
      ]
     },
     "execution_count": 28,
     "metadata": {},
     "output_type": "execute_result"
    },
    {
     "data": {
      "image/png": "[encoded data removed]",
      "text/plain": [
       "<Figure size 1440x720 with 1 Axes>"
      ]
     },
     "metadata": {
      "needs_background": "light"
     },
     "output_type": "display_data"
    },
    {
     "data": {
      "image/png": "[encoded data removed]",
      "text/plain": [
       "<Figure size 1440x720 with 1 Axes>"
      ]
     },
     "metadata": {
      "needs_background": "light"
     },
     "output_type": "display_data"
    }
   ],
   "source": [
    "xs = np.arange(len(keys))\n",
    "true_positive_num = np.array([true_positive_counter[k] for k in keys])\n",
    "false_negative_num = np.array([false_negative_counter[k] for k in keys])\n",
    "\n",
    "plt.figure(figsize=(20, 10))\n",
    "plt.xticks(ticks=xs, labels=keys)\n",
    "plt.plot(xs, false_negative_num / true_positive_num, c='b')\n",
    "\n",
    "plt.figure(figsize=(20, 10))\n",
    "plt.xticks(ticks=xs, labels=keys)\n",
    "plt.plot(xs, true_positive_num, c='b')\n",
    "plt.plot(xs, false_negative_num, c='r')"
   ]
  },
  {
   "cell_type": "markdown",
   "metadata": {},
   "source": [
    "Отношение FN / TP примерно одно и то же по всем типам спариваний (за исключением пары типов, но там очень мало представителей -- так что на них можно не обращать внимания). Это значит, что то как random forest классифицирует вероятно содержит мало информации о типе по Леонтису. Это ещё и указывает на то, что скорее всего классифицировать неканонические спаривания на тип по Леонтису -- непростая задача."
   ]
  },
  {
   "cell_type": "markdown",
   "metadata": {},
   "source": [
    "Хорошо, true_positive классифицируются с высоким precision и неплохо отличаются от false_negative. Интересно теперь: если мы выкинем true_positive из выборки, и будем работать со сложными false_negative -- каким будет скор классификатора?"
   ]
  },
  {
   "cell_type": "code",
   "execution_count": 33,
   "metadata": {},
   "outputs": [],
   "source": [
    "selected_features = features[~true_positive_mask]\n",
    "selected_target = target[~true_positive_mask]\n",
    "selected_pdb_ids = pdb_ids[~true_positive_mask]"
   ]
  },
  {
   "cell_type": "code",
   "execution_count": 34,
   "metadata": {},
   "outputs": [
    {
     "data": {
      "text/plain": [
       "6800004"
      ]
     },
     "execution_count": 34,
     "metadata": {},
     "output_type": "execute_result"
    }
   ],
   "source": [
    "len(selected_target)"
   ]
  },
  {
   "cell_type": "code",
   "execution_count": null,
   "metadata": {},
   "outputs": [
    {
     "name": "stdout",
     "output_type": "stream",
     "text": [
      "Train positive rate: 0.0015158010216123887, test positive rate: 0.0016456172755989812\n",
      "(array([0.17307692, 0.99836749]), array([0.0080429 , 0.99993666]), array([0.01537148, 0.99915146]), array([   2238, 1357738]))\n",
      "Train positive rate: 0.0015542316553329998, test positive rate: 0.001491893116041932\n"
     ]
    }
   ],
   "source": [
    "group_kfold = GroupKFold(n_splits=5)\n",
    "group_kfold.get_n_splits(selected_features, selected_target, selected_pdb_ids)\n",
    "\n",
    "for train_index, test_index in group_kfold.split(selected_features, selected_target, selected_pdb_ids):\n",
    "    X_train, X_test = selected_features[train_index], selected_features[test_index]\n",
    "    y_train, y_test = selected_target[train_index], selected_target[test_index]\n",
    "    print('Train positive rate: {}, test positive rate: {}'.format(\n",
    "        np.mean(y_train == 1), np.mean(y_test == 1)))\n",
    "    \n",
    "    model = RandomForestClassifier(class_weight='balanced', n_estimators=100, n_jobs=8)\n",
    "    model.fit(X_train, y_train)\n",
    "    \n",
    "    y_pred = model.predict(X_test)\n",
    "    \n",
    "    print(precision_recall_fscore_support(y_test, y_pred))"
   ]
  },
  {
   "cell_type": "markdown",
   "metadata": {},
   "source": [
    "0.0080429 -- чудовищно низкий recall, выходит random forest вообще не может отличить false_negative от случайных пар с помощью предложенных фичей. Нужно выяснить, почему так происходит."
   ]
  },
  {
   "cell_type": "code",
   "execution_count": null,
   "metadata": {},
   "outputs": [],
   "source": []
  }
 ],
 "metadata": {
  "kernelspec": {
   "display_name": "Python 3",
   "language": "python",
   "name": "python3"
  },
  "language_info": {
   "codemirror_mode": {
    "name": "ipython",
    "version": 3
   },
   "file_extension": ".py",
   "mimetype": "text/x-python",
   "name": "python",
   "nbconvert_exporter": "python",
   "pygments_lexer": "ipython3",
   "version": "3.6.7"
  }
 },
 "nbformat": 4,
 "nbformat_minor": 2
}
